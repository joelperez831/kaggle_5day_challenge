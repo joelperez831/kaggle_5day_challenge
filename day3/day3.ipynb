{
 "cells": [
  {
   "cell_type": "markdown",
   "metadata": {},
   "source": [
    "# Day 3: Parsing Dates\n",
    "<br>\n",
    "<br>\n",
    "\n",
    "Welcome to day 3 of the 5-Day Data Challenge! Today, we're going to work with dates.\n",
    "<br>"
   ]
  },
  {
   "cell_type": "code",
   "execution_count": 104,
   "metadata": {},
   "outputs": [],
   "source": [
    "import pandas as pd\n",
    "import numpy as np\n",
    "import seaborn as sns\n",
    "import datetime\n",
    "\n",
    "# read in the data\n",
    "earthquakes = pd.read_csv(\"earthquake_database.csv\")\n",
    "landslides = pd.read_csv(\"catalog.csv\")\n",
    "volcanos = pd.read_csv(\"volcano_database.csv\")\n",
    "\n",
    "#set seed for reproducibility\n",
    "np.random.seed(0)"
   ]
  },
  {
   "cell_type": "markdown",
   "metadata": {},
   "source": [
    "\n",
    "## Check the data type of our date column\n",
    "\n",
    "For this part of the challenge, I'll be working with the date column from the landslides dataframe. The very first thing I'm going to do is take a look at the first couple rows to make sure it contains dates.\n"
   ]
  },
  {
   "cell_type": "code",
   "execution_count": 105,
   "metadata": {
    "scrolled": true
   },
   "outputs": [
    {
     "data": {
      "text/plain": [
       "0    01/02/1965\n",
       "1    01/04/1965\n",
       "2    01/05/1965\n",
       "3    01/08/1965\n",
       "4    01/09/1965\n",
       "Name: Date, dtype: object"
      ]
     },
     "execution_count": 105,
     "metadata": {},
     "output_type": "execute_result"
    }
   ],
   "source": [
    "# print the first few rows of the date column\n",
    "earthquakes['Date'].head()"
   ]
  },
  {
   "cell_type": "markdown",
   "metadata": {},
   "source": [
    "\n",
    "\n",
    "Those are indeed dates. Just because I recognize these are dates doesn't mean that Python knows that they're dates. Notice that the at the bottom of the output of head(), you can see that it says that the data type of this column is \"object\".\n",
    "\n",
    "    Pandas uses the \"object\" dtype for storing various types of data types, but most often when you see a column with the dtype \"object\" it will have strings in it.\n",
    "\n",
    "If you check the pandas dtype documentation here, you'll notice that there's also a specific datetime64 dtypes. Because the dtype of our column is object rather than datetime64, we can tell that Python doesn't know that this column contains dates.\n",
    "\n",
    "We can also look at just the dtype of your column without printing the first few rows if we like:\n"
   ]
  },
  {
   "cell_type": "code",
   "execution_count": 106,
   "metadata": {},
   "outputs": [
    {
     "data": {
      "text/plain": [
       "dtype('O')"
      ]
     },
     "execution_count": 106,
     "metadata": {},
     "output_type": "execute_result"
    }
   ],
   "source": [
    "# check the data type of our date column\n",
    "earthquakes['Date'].dtypes"
   ]
  },
  {
   "cell_type": "markdown",
   "metadata": {},
   "source": [
    "## Convert our date columns to datetime\n",
    "<br>\n",
    "Now that we know python isn't recognizing our date column as a date, it's time to convert it so that it is recognized. This process is called \"parsing dates.\"\n",
    "<br>\n",
    "We can specify the format of our dates with a guide called known as \"strftime directive\". The basic idea is that you need point out which parts of the date are where and what punctuation is used in the date. There are many possible parts of a date, but the most common are %d for day, %m for month, %y for a two-digit year or %Y for a four-digit year.\n",
    "\n",
    "Some examples:\n",
    "- 1/17/07 has the format \"%m/%d/%y\n",
    "- 17-1-2007 has the format \"%d-%m-%Y\"\n",
    "\n",
    "<br> \n",
    "Looking back at the dates from our earthquakes dataframe, we can see the format is \"month/day/four-digit year\". If the date column is only in one format, parsing the dates is pretty straight forward. However, for our dataset, we run into an issue."
   ]
  },
  {
   "cell_type": "code",
   "execution_count": 107,
   "metadata": {},
   "outputs": [
    {
     "data": {
      "text/plain": [
       "'1975-02-23T02:58:41.000Z'"
      ]
     },
     "execution_count": 107,
     "metadata": {},
     "output_type": "execute_result"
    }
   ],
   "source": [
    "# This date is not in the same format as others\n",
    "earthquakes.Date[3378]"
   ]
  },
  {
   "cell_type": "markdown",
   "metadata": {},
   "source": [
    "In the case we have multiple date formats, you have pandas try to infer what the right date format should be. You can accomplish this like so:\n"
   ]
  },
  {
   "cell_type": "code",
   "execution_count": 108,
   "metadata": {},
   "outputs": [],
   "source": [
    "earthquakes['Date_parsed'] = pd.to_datetime(earthquakes['Date'], infer_datetime_format= True)\n"
   ]
  },
  {
   "cell_type": "code",
   "execution_count": 109,
   "metadata": {},
   "outputs": [
    {
     "data": {
      "text/plain": [
       "0   1965-01-02\n",
       "1   1965-01-04\n",
       "2   1965-01-05\n",
       "3   1965-01-08\n",
       "4   1965-01-09\n",
       "Name: Date_parsed, dtype: datetime64[ns]"
      ]
     },
     "execution_count": 109,
     "metadata": {},
     "output_type": "execute_result"
    }
   ],
   "source": [
    "earthquakes['Date_parsed'].head()"
   ]
  },
  {
   "cell_type": "markdown",
   "metadata": {},
   "source": [
    "We can now see the type of object is no longer an \"Object\" type, it is now correctly labeled a datetime object.\n",
    "<br>\n",
    "<br>\n",
    "## Select just the year from our column\n",
    "Now that we have our dates identified by Python, let's see how easy it is to get information from this column. Say we wanted the year only:"
   ]
  },
  {
   "cell_type": "code",
   "execution_count": 110,
   "metadata": {},
   "outputs": [],
   "source": [
    "year_earthquakes = earthquakes['Date_parsed'].dt.year"
   ]
  },
  {
   "cell_type": "code",
   "execution_count": 111,
   "metadata": {},
   "outputs": [
    {
     "data": {
      "text/plain": [
       "0    1965\n",
       "1    1965\n",
       "2    1965\n",
       "3    1965\n",
       "4    1965\n",
       "Name: Date_parsed, dtype: int64"
      ]
     },
     "execution_count": 111,
     "metadata": {},
     "output_type": "execute_result"
    }
   ],
   "source": [
    "year_earthquakes.head()"
   ]
  },
  {
   "cell_type": "markdown",
   "metadata": {},
   "source": [
    " ## Plot the day of the month to check the date parsing\n",
    " One danger of parsing dates is mixing up months and days. This is danger increases when you have mulitple formats of dates like we had, so it doesn't hurt to double check to see if the dates were formatted corrctly."
   ]
  },
  {
   "cell_type": "code",
   "execution_count": 112,
   "metadata": {},
   "outputs": [
    {
     "data": {
      "text/plain": [
       "0"
      ]
     },
     "execution_count": 112,
     "metadata": {},
     "output_type": "execute_result"
    }
   ],
   "source": [
    "# Select the day of the month\n",
    "day_of_month_earthquakes = earthquakes['Date_parsed'].dt.day\n",
    "\n",
    "# check for na's(if there we must remove them)\n",
    "day_of_month_earthquakes.isnull().sum()\n",
    "\n"
   ]
  },
  {
   "cell_type": "markdown",
   "metadata": {},
   "source": [
    "Since there are no na's, we skip the removing na's step.\n",
    "Let's plot:"
   ]
  },
  {
   "cell_type": "code",
   "execution_count": 113,
   "metadata": {},
   "outputs": [
    {
     "data": {
      "text/plain": [
       "<matplotlib.axes._subplots.AxesSubplot at 0x142ebbe0>"
      ]
     },
     "execution_count": 113,
     "metadata": {},
     "output_type": "execute_result"
    },
    {
     "data": {
      "image/png": "[encoded data removed]",
      "text/plain": [
       "<matplotlib.figure.Figure at 0x14f35048>"
      ]
     },
     "metadata": {},
     "output_type": "display_data"
    }
   ],
   "source": [
    "# plot day of the month\n",
    "sns.distplot(day_of_month_earthquakes, kde=False, bins = 31)"
   ]
  },
  {
   "cell_type": "markdown",
   "metadata": {},
   "source": [
    "This graph looks good and the limits of the x-axis do make sense. Looks like we parsed the dates correctly.\n",
    "<br>\n",
    "That's it for Day 3. Thanks for following."
   ]
  }
 ],
 "metadata": {
  "kernelspec": {
   "display_name": "Python 3",
   "language": "python",
   "name": "python3"
  },
  "language_info": {
   "codemirror_mode": {
    "name": "ipython",
    "version": 3
   },
   "file_extension": ".py",
   "mimetype": "text/x-python",
   "name": "python",
   "nbconvert_exporter": "python",
   "pygments_lexer": "ipython3",
   "version": "3.6.0"
  }
 },
 "nbformat": 4,
 "nbformat_minor": 2
}
